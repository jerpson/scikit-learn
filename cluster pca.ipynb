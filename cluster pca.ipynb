{
 "cells": [
  {
   "cell_type": "code",
   "execution_count": 1,
   "metadata": {
    "collapsed": true
   },
   "outputs": [],
   "source": [
    "from time import time\n",
    "import numpy as np\n",
    "import matplotlib.pyplot as plt"
   ]
  },
  {
   "cell_type": "code",
   "execution_count": 2,
   "metadata": {
    "collapsed": false
   },
   "outputs": [],
   "source": [
    "from sklearn import metrics\n",
    "from sklearn.cluster import KMeans\n",
    "from sklearn.datasets import load_digits\n",
    "from sklearn.decomposition import PCA\n",
    "from sklearn.preprocessing import scale"
   ]
  },
  {
   "cell_type": "code",
   "execution_count": 3,
   "metadata": {
    "collapsed": true
   },
   "outputs": [],
   "source": [
    "np.random.seed(42)"
   ]
  },
  {
   "cell_type": "code",
   "execution_count": 4,
   "metadata": {
    "collapsed": true
   },
   "outputs": [],
   "source": [
    "digits = load_digits()"
   ]
  },
  {
   "cell_type": "code",
   "execution_count": 5,
   "metadata": {
    "collapsed": false
   },
   "outputs": [
    {
     "data": {
      "text/plain": [
       "{'DESCR': \"Optical Recognition of Handwritten Digits Data Set\\n===================================================\\n\\nNotes\\n-----\\nData Set Characteristics:\\n    :Number of Instances: 5620\\n    :Number of Attributes: 64\\n    :Attribute Information: 8x8 image of integer pixels in the range 0..16.\\n    :Missing Attribute Values: None\\n    :Creator: E. Alpaydin (alpaydin '@' boun.edu.tr)\\n    :Date: July; 1998\\n\\nThis is a copy of the test set of the UCI ML hand-written digits datasets\\nhttp://archive.ics.uci.edu/ml/datasets/Optical+Recognition+of+Handwritten+Digits\\n\\nThe data set contains images of hand-written digits: 10 classes where\\neach class refers to a digit.\\n\\nPreprocessing programs made available by NIST were used to extract\\nnormalized bitmaps of handwritten digits from a preprinted form. From a\\ntotal of 43 people, 30 contributed to the training set and different 13\\nto the test set. 32x32 bitmaps are divided into nonoverlapping blocks of\\n4x4 and the number of on pixels are counted in each block. This generates\\nan input matrix of 8x8 where each element is an integer in the range\\n0..16. This reduces dimensionality and gives invariance to small\\ndistortions.\\n\\nFor info on NIST preprocessing routines, see M. D. Garris, J. L. Blue, G.\\nT. Candela, D. L. Dimmick, J. Geist, P. J. Grother, S. A. Janet, and C.\\nL. Wilson, NIST Form-Based Handprint Recognition System, NISTIR 5469,\\n1994.\\n\\nReferences\\n----------\\n  - C. Kaynak (1995) Methods of Combining Multiple Classifiers and Their\\n    Applications to Handwritten Digit Recognition, MSc Thesis, Institute of\\n    Graduate Studies in Science and Engineering, Bogazici University.\\n  - E. Alpaydin, C. Kaynak (1998) Cascading Classifiers, Kybernetika.\\n  - Ken Tang and Ponnuthurai N. Suganthan and Xi Yao and A. Kai Qin.\\n    Linear dimensionalityreduction using relevance weighted LDA. School of\\n    Electrical and Electronic Engineering Nanyang Technological University.\\n    2005.\\n  - Claudio Gentile. A New Approximate Maximal Margin Classification\\n    Algorithm. NIPS. 2000.\\n\",\n",
       " 'data': array([[  0.,   0.,   5., ...,   0.,   0.,   0.],\n",
       "        [  0.,   0.,   0., ...,  10.,   0.,   0.],\n",
       "        [  0.,   0.,   0., ...,  16.,   9.,   0.],\n",
       "        ..., \n",
       "        [  0.,   0.,   1., ...,   6.,   0.,   0.],\n",
       "        [  0.,   0.,   2., ...,  12.,   0.,   0.],\n",
       "        [  0.,   0.,  10., ...,  12.,   1.,   0.]]),\n",
       " 'images': array([[[  0.,   0.,   5., ...,   1.,   0.,   0.],\n",
       "         [  0.,   0.,  13., ...,  15.,   5.,   0.],\n",
       "         [  0.,   3.,  15., ...,  11.,   8.,   0.],\n",
       "         ..., \n",
       "         [  0.,   4.,  11., ...,  12.,   7.,   0.],\n",
       "         [  0.,   2.,  14., ...,  12.,   0.,   0.],\n",
       "         [  0.,   0.,   6., ...,   0.,   0.,   0.]],\n",
       " \n",
       "        [[  0.,   0.,   0., ...,   5.,   0.,   0.],\n",
       "         [  0.,   0.,   0., ...,   9.,   0.,   0.],\n",
       "         [  0.,   0.,   3., ...,   6.,   0.,   0.],\n",
       "         ..., \n",
       "         [  0.,   0.,   1., ...,   6.,   0.,   0.],\n",
       "         [  0.,   0.,   1., ...,   6.,   0.,   0.],\n",
       "         [  0.,   0.,   0., ...,  10.,   0.,   0.]],\n",
       " \n",
       "        [[  0.,   0.,   0., ...,  12.,   0.,   0.],\n",
       "         [  0.,   0.,   3., ...,  14.,   0.,   0.],\n",
       "         [  0.,   0.,   8., ...,  16.,   0.,   0.],\n",
       "         ..., \n",
       "         [  0.,   9.,  16., ...,   0.,   0.,   0.],\n",
       "         [  0.,   3.,  13., ...,  11.,   5.,   0.],\n",
       "         [  0.,   0.,   0., ...,  16.,   9.,   0.]],\n",
       " \n",
       "        ..., \n",
       "        [[  0.,   0.,   1., ...,   1.,   0.,   0.],\n",
       "         [  0.,   0.,  13., ...,   2.,   1.,   0.],\n",
       "         [  0.,   0.,  16., ...,  16.,   5.,   0.],\n",
       "         ..., \n",
       "         [  0.,   0.,  16., ...,  15.,   0.,   0.],\n",
       "         [  0.,   0.,  15., ...,  16.,   0.,   0.],\n",
       "         [  0.,   0.,   2., ...,   6.,   0.,   0.]],\n",
       " \n",
       "        [[  0.,   0.,   2., ...,   0.,   0.,   0.],\n",
       "         [  0.,   0.,  14., ...,  15.,   1.,   0.],\n",
       "         [  0.,   4.,  16., ...,  16.,   7.,   0.],\n",
       "         ..., \n",
       "         [  0.,   0.,   0., ...,  16.,   2.,   0.],\n",
       "         [  0.,   0.,   4., ...,  16.,   2.,   0.],\n",
       "         [  0.,   0.,   5., ...,  12.,   0.,   0.]],\n",
       " \n",
       "        [[  0.,   0.,  10., ...,   1.,   0.,   0.],\n",
       "         [  0.,   2.,  16., ...,   1.,   0.,   0.],\n",
       "         [  0.,   0.,  15., ...,  15.,   0.,   0.],\n",
       "         ..., \n",
       "         [  0.,   4.,  16., ...,  16.,   6.,   0.],\n",
       "         [  0.,   8.,  16., ...,  16.,   8.,   0.],\n",
       "         [  0.,   1.,   8., ...,  12.,   1.,   0.]]]),\n",
       " 'target': array([0, 1, 2, ..., 8, 9, 8]),\n",
       " 'target_names': array([0, 1, 2, 3, 4, 5, 6, 7, 8, 9])}"
      ]
     },
     "execution_count": 5,
     "metadata": {},
     "output_type": "execute_result"
    }
   ],
   "source": [
    "digits"
   ]
  },
  {
   "cell_type": "code",
   "execution_count": 6,
   "metadata": {
    "collapsed": false
   },
   "outputs": [
    {
     "data": {
      "text/plain": [
       "(1797, 64)"
      ]
     },
     "execution_count": 6,
     "metadata": {},
     "output_type": "execute_result"
    }
   ],
   "source": [
    "digits.data.shape"
   ]
  },
  {
   "cell_type": "code",
   "execution_count": 7,
   "metadata": {
    "collapsed": false
   },
   "outputs": [
    {
     "data": {
      "text/plain": [
       "(1797, 8, 8)"
      ]
     },
     "execution_count": 7,
     "metadata": {},
     "output_type": "execute_result"
    }
   ],
   "source": [
    "digits.images.shape"
   ]
  },
  {
   "cell_type": "code",
   "execution_count": 8,
   "metadata": {
    "collapsed": false
   },
   "outputs": [],
   "source": [
    "data = scale(digits.data)"
   ]
  },
  {
   "cell_type": "code",
   "execution_count": 9,
   "metadata": {
    "collapsed": true
   },
   "outputs": [],
   "source": [
    "n_samples,n_features = data.shape"
   ]
  },
  {
   "cell_type": "code",
   "execution_count": 10,
   "metadata": {
    "collapsed": false
   },
   "outputs": [],
   "source": [
    "n_digits = len(np.unique(digits.target))"
   ]
  },
  {
   "cell_type": "code",
   "execution_count": 11,
   "metadata": {
    "collapsed": true
   },
   "outputs": [],
   "source": [
    "labels = digits.target"
   ]
  },
  {
   "cell_type": "code",
   "execution_count": 12,
   "metadata": {
    "collapsed": true
   },
   "outputs": [],
   "source": [
    "sample_size = 300"
   ]
  },
  {
   "cell_type": "code",
   "execution_count": 13,
   "metadata": {
    "collapsed": false
   },
   "outputs": [],
   "source": [
    "def bench_k_means(estimator,name,data):\n",
    "    t0 = time()\n",
    "    estimator.fit(data)\n",
    "    print('%9s    %.2fs     %i    %.3f    %.3f     %.3f     %.3f     %.3f      %.3f'\n",
    "          %(name,(time()-t0),estimator.inertia_,\n",
    "            metrics.homogeneity_score(labels,estimator.labels_),\n",
    "            metrics.completeness_score(labels,estimator.labels_),\n",
    "            metrics.v_measure_score(labels,estimator.labels_),\n",
    "            metrics.adjusted_rand_score(labels,estimator.labels_),\n",
    "            metrics.adjusted_mutual_info_score(labels,estimator.labels_),\n",
    "            metrics.silhouette_score(data,estimator.labels_,metric='euclidean',sample_size=sample_size)))"
   ]
  },
  {
   "cell_type": "code",
   "execution_count": 14,
   "metadata": {
    "collapsed": false
   },
   "outputs": [
    {
     "data": {
      "text/plain": [
       "(1797, 64)"
      ]
     },
     "execution_count": 14,
     "metadata": {},
     "output_type": "execute_result"
    }
   ],
   "source": [
    "data.shape"
   ]
  },
  {
   "cell_type": "code",
   "execution_count": 15,
   "metadata": {
    "collapsed": false
   },
   "outputs": [],
   "source": [
    "pca = PCA(n_components=10)"
   ]
  },
  {
   "cell_type": "code",
   "execution_count": 16,
   "metadata": {
    "collapsed": false
   },
   "outputs": [
    {
     "data": {
      "text/plain": [
       "PCA(copy=True, iterated_power='auto', n_components=10, random_state=None,\n",
       "  svd_solver='auto', tol=0.0, whiten=False)"
      ]
     },
     "execution_count": 16,
     "metadata": {},
     "output_type": "execute_result"
    }
   ],
   "source": [
    "pca.fit(data)"
   ]
  },
  {
   "cell_type": "code",
   "execution_count": 19,
   "metadata": {
    "collapsed": false
   },
   "outputs": [
    {
     "data": {
      "text/plain": [
       "(1797, 10)"
      ]
     },
     "execution_count": 19,
     "metadata": {},
     "output_type": "execute_result"
    }
   ],
   "source": [
    "pca.transform(data).shape"
   ]
  },
  {
   "cell_type": "code",
   "execution_count": 17,
   "metadata": {
    "collapsed": false
   },
   "outputs": [
    {
     "data": {
      "text/plain": [
       "array([[  9.79117227e-18,  -1.82232981e-01,  -2.85868566e-01,\n",
       "         -2.20370861e-01,   2.51692405e-02,   9.49797615e-03,\n",
       "          5.24757341e-02,   6.26918891e-02,  -3.47082827e-02,\n",
       "         -2.45533593e-01,  -2.29151181e-01,   1.07943596e-01,\n",
       "         -3.62043886e-02,  -3.87105147e-02,   8.37818635e-02,\n",
       "          9.27742512e-02,  -1.66992157e-02,  -1.36715761e-01,\n",
       "          6.30532691e-02,   1.22879302e-01,  -1.48193705e-01,\n",
       "          2.34858019e-02,   1.71200322e-01,   1.04210666e-01,\n",
       "          3.94856638e-03,   1.16389323e-01,   1.88204747e-01,\n",
       "         -6.58612193e-02,  -1.43530934e-01,   1.28207616e-01,\n",
       "          1.80618678e-01,   5.27126154e-02,   0.00000000e+00,\n",
       "          2.38901815e-01,   2.35003507e-01,   5.08917209e-03,\n",
       "          1.31097234e-02,   1.59116304e-01,   1.29393480e-01,\n",
       "          0.00000000e+00,   5.56008651e-02,   1.87158953e-01,\n",
       "          1.53533907e-01,   4.68272848e-02,   1.10894644e-01,\n",
       "          1.07209862e-01,  -1.79258630e-02,   2.27516291e-03,\n",
       "          2.88152064e-02,  -4.08669221e-02,  -1.10269436e-01,\n",
       "         -3.18219404e-02,   7.90503666e-02,  -6.83220929e-02,\n",
       "         -1.21245717e-01,  -4.87721045e-02,   1.82841474e-03,\n",
       "         -1.60395050e-01,  -2.79853684e-01,  -1.94450084e-01,\n",
       "         -1.77743293e-02,  -1.03197302e-01,  -1.19810105e-01,\n",
       "         -7.14963060e-02],\n",
       "       [ -4.95409089e-17,   4.70358226e-02,   5.95617229e-02,\n",
       "         -2.08027006e-02,   1.55900969e-01,   2.74132084e-01,\n",
       "          2.49736574e-01,   1.45834487e-01,  -1.02567923e-03,\n",
       "          2.76235045e-02,   1.45086768e-02,  -9.22518121e-02,\n",
       "          5.72844479e-02,   2.14111635e-01,   2.66542593e-01,\n",
       "          1.36994015e-01,  -7.33685761e-03,  -2.01344120e-02,\n",
       "         -1.18431271e-01,  -8.40867499e-02,   7.68451464e-02,\n",
       "          1.59504087e-01,   1.46061748e-01,   8.08296865e-02,\n",
       "         -3.88536706e-03,  -6.55281213e-02,  -1.12635413e-01,\n",
       "          5.36792089e-02,   1.64912313e-01,   1.37750951e-01,\n",
       "          5.60948119e-02,   2.67237543e-02,  -0.00000000e+00,\n",
       "         -1.17682712e-01,  -1.05399454e-01,   5.88944069e-02,\n",
       "          1.16118563e-01,  -5.20266190e-03,  -7.93511560e-02,\n",
       "         -0.00000000e+00,  -2.36581752e-02,  -1.04337654e-01,\n",
       "         -1.89147531e-01,   9.13547114e-03,   1.48893822e-01,\n",
       "         -9.07562957e-02,  -2.40584053e-01,  -7.86951569e-02,\n",
       "         -1.00432773e-02,  -3.52706349e-02,  -1.85605788e-01,\n",
       "         -3.95224595e-02,   6.23469979e-02,  -1.93122074e-01,\n",
       "         -2.57746774e-01,  -1.15009280e-01,   4.83295625e-03,\n",
       "          4.45027492e-02,   8.13951615e-02,  -9.90203469e-03,\n",
       "         -2.51930014e-01,  -2.42608824e-01,  -1.65082916e-01,\n",
       "         -7.13320145e-02],\n",
       "       [ -2.60609038e-17,   2.36053980e-02,  -5.67869548e-02,\n",
       "         -4.04289764e-02,  -6.70532640e-02,  -9.10934466e-02,\n",
       "         -3.75471429e-02,  -2.25058442e-02,   2.83607863e-03,\n",
       "         -5.06232041e-02,  -1.72707018e-01,   1.66998485e-01,\n",
       "          6.91904951e-02,  -1.79930404e-01,  -7.22383104e-02,\n",
       "         -3.39822166e-02,   8.97120111e-03,  -1.06597366e-01,\n",
       "         -1.07752819e-01,   2.11587497e-01,   1.23370610e-01,\n",
       "         -1.85692146e-01,  -1.41920348e-01,  -2.64535444e-02,\n",
       "          2.01505720e-02,  -9.74761218e-02,  -4.29432567e-02,\n",
       "          1.14884774e-01,   7.87794903e-02,  -1.98304488e-01,\n",
       "         -1.62440294e-01,  -1.22272541e-02,  -0.00000000e+00,\n",
       "         -2.59786428e-02,   7.86410931e-02,   2.77519899e-01,\n",
       "          2.47784764e-01,  -1.96577584e-01,  -2.20664030e-01,\n",
       "         -0.00000000e+00,   1.47424097e-02,   7.51247166e-03,\n",
       "          8.71077026e-02,   3.23186859e-01,   2.69063770e-01,\n",
       "         -1.97714004e-01,  -1.88981866e-01,   3.19969347e-02,\n",
       "          4.00644943e-03,  -1.64584724e-02,  -4.51478338e-02,\n",
       "          2.18701246e-01,   1.30519730e-01,  -1.87864164e-01,\n",
       "         -2.31487234e-02,   1.02959090e-01,   1.14138663e-02,\n",
       "          3.39002762e-02,  -5.12640429e-02,  -8.34484854e-02,\n",
       "         -6.24536047e-02,  -2.22298145e-02,   1.00413694e-01,\n",
       "          9.24830069e-02],\n",
       "       [ -2.47634960e-17,   1.78137322e-01,   1.56125411e-01,\n",
       "          1.67782697e-01,  -1.71727808e-06,  -5.10202386e-04,\n",
       "          4.36877863e-02,   8.71346060e-03,   1.44011594e-02,\n",
       "          1.24022979e-01,   1.99064286e-01,   1.17887273e-01,\n",
       "         -1.26402253e-01,  -1.00855162e-01,  -1.67173534e-02,\n",
       "         -5.41757745e-03,   2.48347121e-02,   1.76495911e-01,\n",
       "          2.11381242e-01,  -1.03398703e-01,  -2.02687169e-01,\n",
       "         -1.48329529e-01,   3.53621589e-03,  -6.78759083e-03,\n",
       "          3.51896354e-02,   2.23449724e-01,   1.77541523e-01,\n",
       "         -1.19791397e-01,  -2.14062890e-01,  -1.32317465e-01,\n",
       "          6.89973498e-02,   1.15479816e-02,   0.00000000e+00,\n",
       "          1.90167908e-01,   1.72397493e-01,   4.39089872e-02,\n",
       "         -1.07418100e-01,  -1.36260216e-01,   1.29987090e-02,\n",
       "          0.00000000e+00,   2.94008325e-02,   1.22817267e-01,\n",
       "          1.40036943e-01,   1.06098059e-01,   1.67108171e-02,\n",
       "         -1.16554158e-01,  -1.00351615e-01,  -5.98460082e-02,\n",
       "          2.21802787e-02,   1.04157558e-01,   1.25653391e-01,\n",
       "          1.33098405e-01,   5.00970452e-02,  -1.48610620e-01,\n",
       "         -1.57457820e-01,  -1.30342378e-01,   7.88912996e-03,\n",
       "          1.86415014e-01,   1.65487643e-01,   1.71479290e-01,\n",
       "         -1.54443721e-01,  -2.52458980e-01,  -1.60736672e-01,\n",
       "         -1.18188186e-01],\n",
       "       [ -7.63648081e-18,  -3.00850260e-02,  -1.47316262e-02,\n",
       "          4.34646338e-02,  -1.39962161e-01,   8.01372295e-03,\n",
       "          2.10934822e-01,   2.81504043e-01,  -8.50816247e-04,\n",
       "          6.68209670e-03,   5.62059637e-02,   1.13466704e-01,\n",
       "         -2.17000246e-01,  -1.53452076e-01,   1.90715301e-01,\n",
       "          3.16801160e-01,   2.46930415e-02,   8.61050428e-02,\n",
       "          1.47353757e-01,  -3.84467480e-02,  -2.24875471e-01,\n",
       "         -1.55853353e-01,   1.54455701e-01,   2.37207930e-01,\n",
       "          2.06000609e-02,   6.52456133e-02,   7.34462149e-02,\n",
       "         -6.00113915e-02,  -1.01317081e-01,  -4.70611800e-02,\n",
       "          5.34562888e-04,   1.02216207e-01,  -0.00000000e+00,\n",
       "         -9.09180976e-02,  -4.72138092e-02,  -1.19188928e-03,\n",
       "          3.89371188e-02,  -1.16619859e-02,  -6.43986501e-02,\n",
       "         -0.00000000e+00,  -8.66486823e-02,  -1.99766025e-01,\n",
       "         -1.57598419e-01,  -5.70984034e-02,   2.13314864e-02,\n",
       "         -8.30325367e-02,   4.10862902e-02,   1.11410788e-01,\n",
       "         -6.16110440e-02,  -1.85249764e-01,  -1.19567814e-01,\n",
       "          4.02721130e-02,  -3.50558993e-02,  -5.13373617e-02,\n",
       "          1.92286754e-01,   2.49199629e-01,  -5.02822667e-02,\n",
       "         -3.92018640e-02,  -3.34902272e-02,   1.00195679e-01,\n",
       "         -3.87469719e-03,   9.43790839e-02,   2.43738047e-01,\n",
       "          2.31423628e-01],\n",
       "       [ -3.52942105e-17,   2.32168838e-01,   1.19726835e-01,\n",
       "         -1.00395333e-01,  -9.37810035e-02,  -8.22094372e-02,\n",
       "          3.03459000e-02,   1.57900104e-01,  -2.33162193e-02,\n",
       "          6.51668966e-02,  -1.01076850e-01,  -1.86992168e-02,\n",
       "          8.04664398e-02,  -1.11221077e-01,   7.03133150e-02,\n",
       "          2.43718607e-01,  -6.47542912e-02,  -1.13192436e-01,\n",
       "         -1.30701933e-01,   1.38206872e-01,   7.45743097e-02,\n",
       "         -8.32554185e-02,   1.64851478e-01,   2.65158764e-01,\n",
       "         -6.98932185e-02,  -1.50228395e-01,  -8.99541763e-02,\n",
       "          6.05596451e-02,  -3.16912359e-02,  -2.06878871e-02,\n",
       "          9.04922116e-02,   2.81832349e-01,   0.00000000e+00,\n",
       "          5.97996480e-03,  -5.12470710e-02,  -7.97413534e-02,\n",
       "         -9.82738667e-02,  -2.01646599e-02,  -2.35021333e-02,\n",
       "          0.00000000e+00,   2.07972152e-01,   1.63364913e-01,\n",
       "          4.09561980e-02,  -4.56883593e-02,  -1.74841706e-02,\n",
       "          7.59028793e-02,  -3.08741828e-02,  -2.58980573e-02,\n",
       "          2.85797738e-01,   3.58942816e-01,   1.49750556e-01,\n",
       "         -8.77593285e-02,   1.21968979e-01,   1.17259764e-01,\n",
       "         -1.98063951e-04,   3.83919714e-03,   1.24510224e-01,\n",
       "          2.60730848e-01,   1.09525435e-01,  -8.63126628e-02,\n",
       "          1.12112474e-01,   5.81064880e-02,   2.90868085e-02,\n",
       "          1.60997225e-02],\n",
       "       [  9.29147062e-17,   1.08213417e-01,   4.70184980e-03,\n",
       "         -2.33973373e-01,   3.94827561e-02,   1.45979084e-01,\n",
       "          3.61632855e-02,  -9.84009729e-02,   7.77515355e-02,\n",
       "          1.24327402e-01,  -3.67493012e-02,  -4.12710347e-02,\n",
       "          2.07010620e-02,  -8.07304164e-02,  -2.89358054e-02,\n",
       "         -4.68012076e-02,   1.04161474e-01,   2.24092644e-01,\n",
       "          1.76532925e-01,   2.04064732e-01,   1.53651374e-02,\n",
       "         -1.82046194e-01,  -7.40553144e-02,   7.06454463e-03,\n",
       "          1.02057442e-01,   2.62171043e-01,   2.77731399e-01,\n",
       "          2.56503576e-01,   3.11829833e-02,  -1.26587457e-01,\n",
       "         -1.74141000e-01,  -2.29676031e-02,   0.00000000e+00,\n",
       "         -2.65443389e-03,  -3.30246609e-02,  -3.33817142e-02,\n",
       "          6.43973223e-03,  -1.44636623e-02,  -1.90632755e-01,\n",
       "          0.00000000e+00,  -1.35507484e-02,  -9.92128699e-02,\n",
       "         -1.96813487e-01,  -1.69249467e-01,   8.14800240e-02,\n",
       "          2.05014597e-01,  -8.75447478e-02,  -1.09295234e-01,\n",
       "         -3.78056684e-02,  -4.36031618e-02,  -1.74720611e-01,\n",
       "         -2.50656049e-01,   1.96628856e-01,   1.55895631e-01,\n",
       "         -8.10181747e-02,  -8.28319407e-02,  -1.62021344e-02,\n",
       "          9.14990820e-02,  -1.49014114e-02,  -1.35506465e-01,\n",
       "          1.72761457e-01,   3.20029860e-02,  -7.77886336e-02,\n",
       "         -2.67216872e-02],\n",
       "       [ -8.11058537e-17,  -1.26832714e-01,  -6.15677902e-03,\n",
       "          3.23392616e-02,  -4.59598583e-02,  -8.03107580e-02,\n",
       "         -1.07911583e-01,  -8.10009580e-02,   2.02045948e-02,\n",
       "         -2.46363191e-02,   7.92782093e-02,   1.38471177e-01,\n",
       "          1.78381529e-01,   1.25683707e-01,  -4.22149298e-02,\n",
       "         -7.41794165e-02,   6.43626534e-02,   1.26172644e-01,\n",
       "          1.09704109e-01,   2.94670871e-02,   8.72862896e-02,\n",
       "          2.09430164e-01,   7.95554503e-02,  -5.61407989e-02,\n",
       "          5.52536831e-02,   1.30280942e-01,  -5.40644080e-02,\n",
       "         -2.21269200e-01,  -5.43028493e-02,   1.17362238e-01,\n",
       "          9.02288284e-02,   8.59028304e-03,   0.00000000e+00,\n",
       "          4.95581757e-02,  -1.74255368e-01,  -2.93311425e-01,\n",
       "         -1.16014316e-01,  -1.32039447e-01,  -4.72895492e-02,\n",
       "          0.00000000e+00,   7.29346599e-02,   6.47409139e-02,\n",
       "         -8.11253898e-02,  -5.27633062e-02,   2.01635520e-01,\n",
       "         -1.75262224e-02,  -2.56008730e-01,  -1.13975624e-01,\n",
       "          8.46199205e-02,   2.47560904e-02,   1.79826439e-02,\n",
       "          1.27976034e-01,   3.67339511e-01,   5.26704372e-02,\n",
       "         -1.31915073e-01,   1.80256906e-01,   6.41467498e-02,\n",
       "         -1.10772205e-01,  -4.06873560e-02,   9.79448975e-02,\n",
       "          5.44255735e-02,  -3.61873073e-02,   1.63165784e-01,\n",
       "          3.50641404e-01],\n",
       "       [ -9.34341984e-18,  -2.13551272e-01,  -1.20401834e-01,\n",
       "          1.00885991e-01,   9.36703815e-02,  -6.32535663e-02,\n",
       "         -3.90069677e-02,   1.57549909e-01,   1.49247390e-01,\n",
       "         -1.82241263e-02,   1.09976340e-01,   1.91835312e-01,\n",
       "          2.15999658e-01,   1.13742919e-01,   1.89865921e-02,\n",
       "          1.94634816e-01,   2.68124585e-01,   9.91179818e-02,\n",
       "          1.36834347e-01,   1.01322629e-01,   1.19431348e-01,\n",
       "          8.42385158e-02,   4.66585066e-02,   1.73035418e-01,\n",
       "          2.29945147e-01,  -2.16607045e-02,   2.26445468e-02,\n",
       "          1.68440474e-01,   7.31098384e-02,  -6.87481029e-02,\n",
       "         -2.89355294e-02,   1.92753261e-01,  -0.00000000e+00,\n",
       "         -1.52413866e-01,  -1.46161437e-02,   1.15517176e-01,\n",
       "         -9.21989952e-02,  -1.69914702e-01,  -5.98824010e-02,\n",
       "         -0.00000000e+00,  -4.36640069e-02,  -1.33434490e-01,\n",
       "          1.17951172e-01,   5.04351361e-02,  -1.51650261e-01,\n",
       "         -4.49976514e-02,   3.91844614e-02,  -3.63986456e-02,\n",
       "          8.51987746e-02,  -1.95189825e-02,   2.05417385e-01,\n",
       "          1.47393096e-01,  -4.50428106e-02,   8.26647895e-02,\n",
       "         -2.69410324e-02,  -1.87904931e-01,   3.45893331e-02,\n",
       "         -2.14214389e-01,  -1.15650682e-01,   1.15414374e-01,\n",
       "          1.54567999e-01,   2.68478466e-02,  -1.44777125e-01,\n",
       "         -2.21773828e-01],\n",
       "       [  1.43109599e-17,   6.05233480e-02,   5.10260945e-03,\n",
       "         -2.39384237e-02,   5.16816190e-03,  -1.63987277e-01,\n",
       "         -1.88808596e-01,  -6.66435895e-02,   2.04921992e-01,\n",
       "          2.09164955e-01,  -5.74708664e-02,  -1.69547529e-01,\n",
       "          4.24619515e-02,  -1.45644224e-01,  -2.00590976e-01,\n",
       "          1.26553274e-02,   3.50342905e-01,   2.00125838e-01,\n",
       "         -1.69946552e-01,  -1.11885364e-01,   1.20839106e-01,\n",
       "         -3.57505654e-02,  -1.84661398e-02,   1.62340666e-01,\n",
       "          2.94213682e-01,   1.27428137e-01,  -4.06801512e-02,\n",
       "         -7.41984831e-02,   1.00629938e-01,   1.34014352e-01,\n",
       "          1.83613598e-01,   1.95731824e-01,  -0.00000000e+00,\n",
       "          1.11990703e-01,   2.22571049e-02,   3.25104939e-02,\n",
       "          4.12562747e-02,   1.29380611e-01,   1.94120371e-01,\n",
       "         -0.00000000e+00,   1.09667757e-01,   2.95172332e-02,\n",
       "         -1.29432637e-01,   8.16234741e-02,  -1.31317790e-02,\n",
       "         -1.51876314e-01,   4.56312874e-02,   4.88399941e-02,\n",
       "          1.14337896e-01,  -9.96186209e-02,  -2.40146264e-01,\n",
       "         -6.28326521e-02,  -1.14203236e-01,  -1.70540412e-01,\n",
       "          3.87591524e-02,   2.56657913e-02,  -2.99521382e-02,\n",
       "          1.01255591e-02,   1.05717744e-02,  -1.06812077e-01,\n",
       "         -9.91490364e-02,  -3.65122713e-02,   5.64515675e-02,\n",
       "          2.59972950e-02]])"
      ]
     },
     "execution_count": 17,
     "metadata": {},
     "output_type": "execute_result"
    }
   ],
   "source": [
    "pca.components_"
   ]
  },
  {
   "cell_type": "code",
   "execution_count": 69,
   "metadata": {
    "collapsed": false
   },
   "outputs": [
    {
     "name": "stdout",
     "output_type": "stream",
     "text": [
      "n_digits: 10, \t n_samples 1797, \t n_features 64\n",
      "_________________________________________________________________________________________\n",
      "init         time    inertia    homo    compl   v-meas        ARI     AMI     silhouette\n",
      "k-means++    0.26s     69870    0.639    0.679     0.658     0.527     0.635      0.138\n",
      "   random    0.17s     69685    0.668    0.710     0.688     0.549     0.664      0.145\n",
      "PCA-based    0.05s     70768    0.668    0.695     0.681     0.558     0.665      0.122\n",
      "_________________________________________________________________________________________\n"
     ]
    }
   ],
   "source": [
    "print(\"n_digits: %d, \\t n_samples %d, \\t n_features %d\"  % (n_digits,n_samples,n_features))\n",
    "print(89*'_')\n",
    "print('% 9s' % 'init         time    inertia    homo    compl   v-meas        ARI     AMI     silhouette')\n",
    "bench_k_means(KMeans(init='k-means++',n_clusters=n_digits,n_init=10),name='k-means++',data=data)\n",
    "bench_k_means(KMeans(init='random',n_clusters=n_digits,n_init=10),name='random',data=data)\n",
    "# in this case the seeding of the centers is deterministic, hence we run the kmeans algorithm only once with n_init=1\n",
    "bench_k_means(KMeans(init=pca.components_,n_clusters=n_digits,n_init=1),name='PCA-based',data=data)\n",
    "print(89*'_')"
   ]
  },
  {
   "cell_type": "markdown",
   "metadata": {},
   "source": [
    "###### Visualize the results on PCA-reduced data"
   ]
  },
  {
   "cell_type": "code",
   "execution_count": 70,
   "metadata": {
    "collapsed": true
   },
   "outputs": [],
   "source": [
    "reduced_data = PCA(n_components=2).fit_transform(data)"
   ]
  },
  {
   "cell_type": "code",
   "execution_count": 71,
   "metadata": {
    "collapsed": true
   },
   "outputs": [],
   "source": [
    "kmeans = KMeans(init='k-means++',n_clusters=n_digits,n_init=10)"
   ]
  },
  {
   "cell_type": "code",
   "execution_count": 72,
   "metadata": {
    "collapsed": false
   },
   "outputs": [
    {
     "data": {
      "text/plain": [
       "KMeans(algorithm='auto', copy_x=True, init='k-means++', max_iter=300,\n",
       "    n_clusters=10, n_init=10, n_jobs=1, precompute_distances='auto',\n",
       "    random_state=None, tol=0.0001, verbose=0)"
      ]
     },
     "execution_count": 72,
     "metadata": {},
     "output_type": "execute_result"
    }
   ],
   "source": [
    "kmeans.fit(reduced_data)"
   ]
  },
  {
   "cell_type": "code",
   "execution_count": 73,
   "metadata": {
    "collapsed": true
   },
   "outputs": [],
   "source": [
    "# Step size of the mesh. Decrease to increase the quality of the VQ.\n",
    "h = .02     # point in the mesh [x_min, x_max]x[y_min, y_max]."
   ]
  },
  {
   "cell_type": "code",
   "execution_count": 86,
   "metadata": {
    "collapsed": true
   },
   "outputs": [],
   "source": [
    "# Plot the decision boundary. For that, we will assign a color to each\n",
    "x_min, x_max = reduced_data[:, 0].min() - 1, reduced_data[:, 0].max() + 1\n",
    "y_min, y_max = reduced_data[:, 1].min() - 1, reduced_data[:, 1].max() + 1\n",
    "xx, yy = np.meshgrid(np.arange(x_min, x_max, h), np.arange(y_min, y_max, h))"
   ]
  },
  {
   "cell_type": "code",
   "execution_count": 87,
   "metadata": {
    "collapsed": false
   },
   "outputs": [
    {
     "data": {
      "text/plain": [
       "(array([[ -7.99721121,  -7.97721121,  -7.95721121, ...,  10.92278879,\n",
       "          10.94278879,  10.96278879],\n",
       "        [ -7.99721121,  -7.97721121,  -7.95721121, ...,  10.92278879,\n",
       "          10.94278879,  10.96278879],\n",
       "        [ -7.99721121,  -7.97721121,  -7.95721121, ...,  10.92278879,\n",
       "          10.94278879,  10.96278879],\n",
       "        ..., \n",
       "        [ -7.99721121,  -7.97721121,  -7.95721121, ...,  10.92278879,\n",
       "          10.94278879,  10.96278879],\n",
       "        [ -7.99721121,  -7.97721121,  -7.95721121, ...,  10.92278879,\n",
       "          10.94278879,  10.96278879],\n",
       "        [ -7.99721121,  -7.97721121,  -7.95721121, ...,  10.92278879,\n",
       "          10.94278879,  10.96278879]]),\n",
       " array([[ -7.67548145,  -7.67548145,  -7.67548145, ...,  -7.67548145,\n",
       "          -7.67548145,  -7.67548145],\n",
       "        [ -7.65548145,  -7.65548145,  -7.65548145, ...,  -7.65548145,\n",
       "          -7.65548145,  -7.65548145],\n",
       "        [ -7.63548145,  -7.63548145,  -7.63548145, ...,  -7.63548145,\n",
       "          -7.63548145,  -7.63548145],\n",
       "        ..., \n",
       "        [ 10.80451855,  10.80451855,  10.80451855, ...,  10.80451855,\n",
       "          10.80451855,  10.80451855],\n",
       "        [ 10.82451855,  10.82451855,  10.82451855, ...,  10.82451855,\n",
       "          10.82451855,  10.82451855],\n",
       "        [ 10.84451855,  10.84451855,  10.84451855, ...,  10.84451855,\n",
       "          10.84451855,  10.84451855]]))"
      ]
     },
     "execution_count": 87,
     "metadata": {},
     "output_type": "execute_result"
    }
   ],
   "source": [
    "xx,yy"
   ]
  },
  {
   "cell_type": "code",
   "execution_count": 77,
   "metadata": {
    "collapsed": true
   },
   "outputs": [],
   "source": [
    "#x = np.arange(-5, 5, 0.1)\n",
    "#y = np.arange(-5, 5, 0.1)\n",
    "#xx, yy = np.meshgrid(x, y)"
   ]
  },
  {
   "cell_type": "code",
   "execution_count": 84,
   "metadata": {
    "collapsed": false
   },
   "outputs": [
    {
     "data": {
      "text/plain": [
       "(array([[-5. , -4.9, -4.8, ...,  4.7,  4.8,  4.9],\n",
       "        [-5. , -4.9, -4.8, ...,  4.7,  4.8,  4.9],\n",
       "        [-5. , -4.9, -4.8, ...,  4.7,  4.8,  4.9],\n",
       "        ..., \n",
       "        [-5. , -4.9, -4.8, ...,  4.7,  4.8,  4.9],\n",
       "        [-5. , -4.9, -4.8, ...,  4.7,  4.8,  4.9],\n",
       "        [-5. , -4.9, -4.8, ...,  4.7,  4.8,  4.9]]),\n",
       " array([[-5. , -5. , -5. , ..., -5. , -5. , -5. ],\n",
       "        [-4.9, -4.9, -4.9, ..., -4.9, -4.9, -4.9],\n",
       "        [-4.8, -4.8, -4.8, ..., -4.8, -4.8, -4.8],\n",
       "        ..., \n",
       "        [ 4.7,  4.7,  4.7, ...,  4.7,  4.7,  4.7],\n",
       "        [ 4.8,  4.8,  4.8, ...,  4.8,  4.8,  4.8],\n",
       "        [ 4.9,  4.9,  4.9, ...,  4.9,  4.9,  4.9]]))"
      ]
     },
     "execution_count": 84,
     "metadata": {},
     "output_type": "execute_result"
    }
   ],
   "source": [
    "#xx,yy"
   ]
  },
  {
   "cell_type": "code",
   "execution_count": 88,
   "metadata": {
    "collapsed": false
   },
   "outputs": [
    {
     "data": {
      "text/plain": [
       "array([ -7.99721121,  -7.97721121,  -7.95721121, ...,  10.92278879,\n",
       "        10.94278879,  10.96278879])"
      ]
     },
     "execution_count": 88,
     "metadata": {},
     "output_type": "execute_result"
    }
   ],
   "source": [
    "xx.ravel()"
   ]
  },
  {
   "cell_type": "code",
   "execution_count": 89,
   "metadata": {
    "collapsed": false
   },
   "outputs": [
    {
     "data": {
      "text/plain": [
       "array([ -7.67548145,  -7.67548145,  -7.67548145, ...,  10.84451855,\n",
       "        10.84451855,  10.84451855])"
      ]
     },
     "execution_count": 89,
     "metadata": {},
     "output_type": "execute_result"
    }
   ],
   "source": [
    "yy.ravel()"
   ]
  },
  {
   "cell_type": "code",
   "execution_count": 111,
   "metadata": {
    "collapsed": false
   },
   "outputs": [
    {
     "data": {
      "text/plain": [
       "array([[ -7.99721121,  -7.67548145],\n",
       "       [ -7.97721121,  -7.67548145],\n",
       "       [ -7.95721121,  -7.67548145],\n",
       "       ..., \n",
       "       [ 10.92278879,  10.84451855],\n",
       "       [ 10.94278879,  10.84451855],\n",
       "       [ 10.96278879,  10.84451855]])"
      ]
     },
     "execution_count": 111,
     "metadata": {},
     "output_type": "execute_result"
    }
   ],
   "source": [
    "np.c_[xx.ravel(),yy.ravel()]"
   ]
  },
  {
   "cell_type": "code",
   "execution_count": 116,
   "metadata": {
    "collapsed": true
   },
   "outputs": [],
   "source": [
    "# Obtain labels for each point in mesh. Use last trained model\n",
    "Z = kmeans.predict(np.c_[xx.ravel(),yy.ravel()])"
   ]
  },
  {
   "cell_type": "code",
   "execution_count": 115,
   "metadata": {
    "collapsed": false
   },
   "outputs": [
    {
     "data": {
      "text/plain": [
       "array([[1, 4],\n",
       "       [2, 5],\n",
       "       [3, 6]])"
      ]
     },
     "execution_count": 115,
     "metadata": {},
     "output_type": "execute_result"
    }
   ],
   "source": [
    "#np.c_[np.array([1,2,3]), np.array([4,5,6])]"
   ]
  },
  {
   "cell_type": "code",
   "execution_count": 117,
   "metadata": {
    "collapsed": false
   },
   "outputs": [
    {
     "data": {
      "text/plain": [
       "(927, 949)"
      ]
     },
     "execution_count": 117,
     "metadata": {},
     "output_type": "execute_result"
    }
   ],
   "source": [
    "xx.shape"
   ]
  },
  {
   "cell_type": "code",
   "execution_count": 121,
   "metadata": {
    "collapsed": false
   },
   "outputs": [
    {
     "data": {
      "text/plain": [
       "(879723,)"
      ]
     },
     "execution_count": 121,
     "metadata": {},
     "output_type": "execute_result"
    }
   ],
   "source": [
    "Z.shape"
   ]
  },
  {
   "cell_type": "code",
   "execution_count": 122,
   "metadata": {
    "collapsed": false
   },
   "outputs": [
    {
     "data": {
      "text/plain": [
       "array([4, 4, 4, ..., 5, 5, 5])"
      ]
     },
     "execution_count": 122,
     "metadata": {},
     "output_type": "execute_result"
    }
   ],
   "source": [
    "Z"
   ]
  },
  {
   "cell_type": "code",
   "execution_count": 124,
   "metadata": {
    "collapsed": false
   },
   "outputs": [],
   "source": [
    "Z = Z.reshape(xx.shape)"
   ]
  },
  {
   "cell_type": "code",
   "execution_count": 126,
   "metadata": {
    "collapsed": false
   },
   "outputs": [
    {
     "data": {
      "image/png": "[encoded data removed]",
      "text/plain": [
       "<matplotlib.figure.Figure at 0xb910470>"
      ]
     },
     "metadata": {},
     "output_type": "display_data"
    }
   ],
   "source": [
    "plt.imshow(Z, interpolation='nearest',\n",
    "           extent=(xx.min(), xx.max(), yy.min(), yy.max()),\n",
    "           cmap=plt.cm.Paired,\n",
    "           aspect='auto', origin='lower')\n",
    "plt.show()"
   ]
  },
  {
   "cell_type": "code",
   "execution_count": 110,
   "metadata": {
    "collapsed": false
   },
   "outputs": [
    {
     "data": {
      "image/png": "[encoded data removed]",
      "text/plain": [
       "<matplotlib.figure.Figure at 0xbcddfd0>"
      ]
     },
     "metadata": {},
     "output_type": "display_data"
    }
   ],
   "source": [
    "plt.figure(figsize=(10,10))\n",
    "plt.scatter(reduced_data[:, 0], reduced_data[:, 1],s=2,c='k',marker='.')\n",
    "plt.show()"
   ]
  },
  {
   "cell_type": "code",
   "execution_count": 127,
   "metadata": {
    "collapsed": true
   },
   "outputs": [],
   "source": [
    "centroids = kmeans.cluster_centers_"
   ]
  },
  {
   "cell_type": "code",
   "execution_count": 135,
   "metadata": {
    "collapsed": false
   },
   "outputs": [
    {
     "data": {
      "image/png": "[encoded data removed]",
      "text/plain": [
       "<matplotlib.figure.Figure at 0xaea3e10>"
      ]
     },
     "metadata": {},
     "output_type": "display_data"
    }
   ],
   "source": [
    "plt.scatter(centroids[:,0],centroids[:,1],marker='x',s=30,linewidths=3,color='k',zorder=10)\n",
    "plt.xlim(x_min, x_max)\n",
    "plt.ylim(y_min,y_max)\n",
    "plt.xticks(())\n",
    "plt.yticks(())\n",
    "plt.show()"
   ]
  },
  {
   "cell_type": "code",
   "execution_count": 47,
   "metadata": {
    "collapsed": true
   },
   "outputs": [],
   "source": [
    "kmeans = KMeans(n_clusters=10).fit(data)"
   ]
  },
  {
   "cell_type": "code",
   "execution_count": 48,
   "metadata": {
    "collapsed": false
   },
   "outputs": [
    {
     "data": {
      "text/plain": [
       "KMeans(algorithm='auto', copy_x=True, init='k-means++', max_iter=300,\n",
       "    n_clusters=10, n_init=10, n_jobs=1, precompute_distances='auto',\n",
       "    random_state=None, tol=0.0001, verbose=0)"
      ]
     },
     "execution_count": 48,
     "metadata": {},
     "output_type": "execute_result"
    }
   ],
   "source": [
    "kmeans"
   ]
  },
  {
   "cell_type": "code",
   "execution_count": 49,
   "metadata": {
    "collapsed": false
   },
   "outputs": [
    {
     "data": {
      "text/plain": [
       "array([1, 0, 0, ..., 0, 6, 6])"
      ]
     },
     "execution_count": 49,
     "metadata": {},
     "output_type": "execute_result"
    }
   ],
   "source": [
    "kmeans.labels_"
   ]
  },
  {
   "cell_type": "code",
   "execution_count": 43,
   "metadata": {
    "collapsed": false
   },
   "outputs": [
    {
     "data": {
      "text/plain": [
       "array([0, 1, 2, ..., 8, 9, 8])"
      ]
     },
     "execution_count": 43,
     "metadata": {},
     "output_type": "execute_result"
    }
   ],
   "source": [
    "labels"
   ]
  },
  {
   "cell_type": "code",
   "execution_count": 46,
   "metadata": {
    "collapsed": false,
    "scrolled": false
   },
   "outputs": [
    {
     "data": {
      "text/plain": [
       "array([[  0.00000000e+00,   1.26454335e+00,   1.19099772e+00,\n",
       "          4.29915423e-01,   5.41490529e-01,   1.23068990e+00,\n",
       "          9.69137523e-01,  -9.10710716e-02,   1.65209140e-01,\n",
       "          9.93698318e-01,   8.49383159e-01,   3.40697533e-03,\n",
       "         -3.16176176e-01,  -9.65580448e-02,   1.99973506e-01,\n",
       "         -8.78914928e-02,  -4.46250733e-02,   9.84016502e-01,\n",
       "          6.82973324e-01,  -2.22122037e-01,  -6.93396941e-01,\n",
       "         -1.00537187e+00,  -5.03426812e-01,  -1.14221844e-01,\n",
       "         -3.33797263e-02,   7.97671739e-01,   7.13336762e-01,\n",
       "          5.69201619e-01,  -2.76689958e-01,  -8.54425243e-01,\n",
       "         -5.63927449e-01,  -4.72323823e-02,   0.00000000e+00,\n",
       "         -1.80544449e-01,  -1.94428492e-03,   1.42500838e-01,\n",
       "         -3.77874402e-02,  -6.42729233e-01,  -6.59398116e-01,\n",
       "          0.00000000e+00,  -6.13436689e-02,  -4.24976534e-01,\n",
       "         -7.82398658e-01,  -3.06640397e-01,   4.16995005e-01,\n",
       "         -2.93843020e-01,  -6.73033142e-01,  -8.87416172e-02,\n",
       "         -3.54332626e-02,   1.41033038e-01,  -3.00747713e-01,\n",
       "          4.62123432e-03,   5.53876602e-01,  -6.35031778e-01,\n",
       "         -7.10182330e-01,  -2.09785127e-01,  -2.35964589e-02,\n",
       "          1.18620972e+00,   1.26558127e+00,   5.43218052e-01,\n",
       "         -8.69322847e-01,  -9.87870920e-01,  -5.02225661e-01,\n",
       "         -1.96007519e-01],\n",
       "       [  0.00000000e+00,  -3.09957187e-01,  -1.96078229e-01,\n",
       "          3.04837127e-01,  -1.46164427e-01,  -5.05116414e-01,\n",
       "         -3.99470552e-01,  -1.25022923e-01,  -5.90775571e-02,\n",
       "         -3.43054289e-01,   4.32655322e-01,   3.43820664e-01,\n",
       "          2.30338172e-01,   5.24918099e-01,  -2.42415529e-01,\n",
       "         -1.30433381e-01,  -4.46250733e-02,   3.32339262e-01,\n",
       "          7.71042262e-01,  -3.18052666e-01,  -8.07304281e-01,\n",
       "          6.90632919e-01,   5.39103494e-01,  -1.14221844e-01,\n",
       "         -3.33797263e-02,   9.23599893e-01,   5.80945713e-01,\n",
       "         -1.16756911e+00,  -1.57618633e+00,   2.49632159e-01,\n",
       "          1.13480600e+00,  -4.72323823e-02,   0.00000000e+00,\n",
       "          1.03573123e+00,   6.09765688e-01,  -1.31616204e+00,\n",
       "         -1.73187517e+00,  -4.78934228e-03,   1.21461815e+00,\n",
       "          0.00000000e+00,  -6.13436689e-02,   6.65696124e-01,\n",
       "          9.83050195e-01,  -8.93052157e-01,  -1.00902996e+00,\n",
       "          5.35233029e-01,   5.66493929e-01,  -8.87416172e-02,\n",
       "         -3.54332626e-02,   6.51179803e-02,   1.00465273e+00,\n",
       "          6.09937633e-02,   1.58366371e-01,   7.48695386e-01,\n",
       "         -2.61811241e-01,  -2.09785127e-01,  -2.35964589e-02,\n",
       "         -2.92998302e-01,  -2.60765926e-01,   3.46002866e-01,\n",
       "          3.08240491e-01,  -2.23914850e-01,  -4.37589292e-01,\n",
       "         -1.96007519e-01],\n",
       "       [  0.00000000e+00,   1.92033791e-02,   4.78273609e-01,\n",
       "          3.61644613e-01,   1.99998809e-01,   5.64165224e-02,\n",
       "         -2.45537936e-01,  -1.20364795e-01,   1.78516966e-02,\n",
       "          4.01812272e-01,   5.77900291e-01,  -7.14642244e-01,\n",
       "         -1.64956328e-02,   4.26786952e-01,  -1.16156620e-01,\n",
       "         -1.21678383e-01,  -5.88533575e-03,   1.85758176e-01,\n",
       "         -1.26485127e-01,  -4.74679020e-01,   3.19029587e-01,\n",
       "          3.97342171e-01,  -1.17442083e-01,  -1.14221844e-01,\n",
       "         -3.33797263e-02,  -3.40507882e-01,  -3.81140423e-01,\n",
       "          3.42095216e-01,   5.87992458e-01,   3.46705690e-01,\n",
       "         -1.96326858e-01,  -4.72323823e-02,   0.00000000e+00,\n",
       "         -5.90454748e-01,  -8.19130157e-01,  -5.17546942e-01,\n",
       "         -2.51597363e-01,   5.11972624e-01,   1.82751064e-01,\n",
       "          0.00000000e+00,  -6.13436689e-02,  -4.03258520e-01,\n",
       "         -7.15800754e-01,  -9.21405962e-01,  -8.47373212e-01,\n",
       "          6.12179957e-01,   7.14128055e-01,  -5.72975304e-02,\n",
       "         -3.54332626e-02,   1.07005999e-01,   8.22372138e-02,\n",
       "         -7.34157217e-01,  -6.38581589e-01,   7.03463052e-01,\n",
       "          4.66492273e-01,  -1.41061424e-01,  -2.35964589e-02,\n",
       "         -1.72042145e-02,   4.21936104e-01,   4.49646458e-01,\n",
       "          5.23495005e-01,   4.63800265e-01,  -6.73985800e-02,\n",
       "         -1.73926043e-01],\n",
       "       [  0.00000000e+00,  -3.35016487e-01,  -1.06367687e+00,\n",
       "         -1.61310053e+00,  -1.04678586e-02,   1.65306240e-02,\n",
       "          3.59887728e-02,  -9.79159831e-02,  -5.90775571e-02,\n",
       "         -6.20238630e-01,  -1.45097943e+00,  -2.51210033e-02,\n",
       "          1.01163430e-01,  -4.16644411e-01,   6.86015731e-02,\n",
       "         -8.19117094e-02,  -4.46250733e-02,  -4.86141413e-01,\n",
       "         -6.98075338e-02,   8.63160446e-01,   2.38157872e-02,\n",
       "         -5.04285608e-03,   5.04822767e-01,   1.69711947e-01,\n",
       "         -3.33797263e-02,   5.47770941e-01,   7.07333394e-01,\n",
       "         -1.56046212e-01,  -1.84693614e-01,   6.50324369e-01,\n",
       "          6.40620767e-01,   3.79850785e-02,   0.00000000e+00,\n",
       "          1.16863925e+00,   6.91600152e-01,  -7.87459501e-02,\n",
       "          3.72300454e-01,   8.09328134e-01,   3.41366161e-01,\n",
       "          0.00000000e+00,   3.81365460e-01,   1.03688767e+00,\n",
       "          2.59609703e-01,   3.56223312e-01,   9.95783389e-01,\n",
       "          5.36828019e-01,  -4.61570899e-01,  -8.87416172e-02,\n",
       "          1.61272245e-01,   5.19418728e-02,  -9.49571608e-01,\n",
       "         -6.74995405e-01,   8.01878844e-01,  -3.05635796e-01,\n",
       "         -6.44745145e-01,  -2.09785127e-01,  -2.35964589e-02,\n",
       "         -2.81882698e-01,  -1.05710720e+00,  -1.51255906e+00,\n",
       "          7.61494118e-02,  -2.82704037e-01,  -3.58360117e-01,\n",
       "         -1.96007519e-01],\n",
       "       [  0.00000000e+00,   7.18314097e-01,   1.03815626e+00,\n",
       "          6.00245233e-01,  -9.73381418e-01,  -8.26378021e-01,\n",
       "         -4.09723921e-01,  -1.25022923e-01,   1.78156790e-01,\n",
       "          9.60035580e-01,   5.51003778e-01,   1.49885200e-01,\n",
       "          2.02130287e-01,  -7.71319810e-01,  -4.94735068e-01,\n",
       "         -1.30433381e-01,   1.34573266e-01,   4.94267317e-01,\n",
       "         -3.57109880e-01,  -1.17205836e-01,   6.90829384e-01,\n",
       "         -5.94525236e-01,  -4.78522275e-01,  -1.14221844e-01,\n",
       "         -3.33797263e-02,  -4.79638401e-01,  -1.01287810e+00,\n",
       "         -3.50533492e-01,   3.25227597e-01,  -7.06744272e-01,\n",
       "         -5.92515268e-01,  -4.72323823e-02,   0.00000000e+00,\n",
       "         -6.46682392e-01,  -9.51077178e-01,   1.17231892e-02,\n",
       "          6.59363189e-02,  -1.11386921e+00,  -8.11636018e-01,\n",
       "          0.00000000e+00,  -6.13436689e-02,  -4.45076648e-01,\n",
       "         -3.98115919e-01,   4.85092944e-01,   1.16655485e-01,\n",
       "         -9.68719959e-01,  -6.26664778e-01,  -3.41975449e-02,\n",
       "         -3.54332626e-02,   2.87681679e-01,   5.54661864e-01,\n",
       "          7.68126656e-01,   5.26443952e-01,   3.86584022e-01,\n",
       "          8.81724777e-01,   1.19235941e+00,  -2.35964589e-02,\n",
       "          6.93780323e-01,   9.29920150e-01,   5.41688794e-01,\n",
       "          3.59219982e-01,   9.92724141e-01,   1.87682982e+00,\n",
       "          1.66358216e+00],\n",
       "       [  0.00000000e+00,  -3.35016487e-01,  -8.47241762e-01,\n",
       "         -1.53741563e-01,  -4.98904683e-01,  -7.27393482e-01,\n",
       "         -3.90319697e-01,  -1.25022923e-01,  -5.90775571e-02,\n",
       "         -6.05500727e-01,  -5.90320934e-01,   6.41994011e-01,\n",
       "         -8.35414379e-01,  -1.18139833e+00,  -4.99996033e-01,\n",
       "         -1.30433381e-01,  -4.46250733e-02,  -5.03588464e-01,\n",
       "          4.55505045e-01,   4.30350178e-01,  -9.85066763e-01,\n",
       "         -1.21572629e+00,  -5.47155753e-01,  -1.14221844e-01,\n",
       "         -3.33797263e-02,  -3.13778451e-02,   7.29569317e-01,\n",
       "         -1.17718321e-01,  -9.59325799e-01,  -9.26357401e-01,\n",
       "         -5.98260862e-01,  -4.72323823e-02,   0.00000000e+00,\n",
       "          3.24276041e-01,   1.09594033e+00,   6.16549436e-01,\n",
       "          3.15320292e-01,   2.74461932e-01,  -3.51630482e-02,\n",
       "          0.00000000e+00,  -6.13436689e-02,   9.09390294e-02,\n",
       "          1.15326342e+00,   5.31459647e-01,  -3.58294430e-01,\n",
       "          3.38040880e-01,   1.32010675e+00,   6.46137120e-01,\n",
       "         -3.54332626e-02,  -2.95781203e-01,   4.66571639e-01,\n",
       "          5.72773885e-01,  -7.61149570e-01,   4.18126468e-01,\n",
       "          1.43659454e+00,   3.14668570e-01,  -2.35964589e-02,\n",
       "         -2.99081347e-01,  -8.03788480e-01,  -3.01869701e-01,\n",
       "          6.58887884e-01,   1.06714853e+00,   6.03936446e-01,\n",
       "         -1.46858428e-01],\n",
       "       [  0.00000000e+00,  -3.35016487e-01,  -8.19278076e-01,\n",
       "         -7.89394466e-01,   9.98045922e-02,   8.11576493e-01,\n",
       "          2.87795387e+00,   5.69362201e+00,  -5.90775571e-02,\n",
       "         -6.02425642e-01,  -7.32204721e-01,   6.38217592e-01,\n",
       "         -1.88240602e-01,  -6.89487596e-02,   3.41867046e+00,\n",
       "          6.91039575e+00,  -4.46250733e-02,  -5.82975763e-01,\n",
       "          4.73252178e-02,   9.63547480e-02,  -9.26242544e-01,\n",
       "          4.23884257e-02,   3.42961315e+00,   4.44703712e+00,\n",
       "         -3.33797263e-02,  -5.06497864e-02,   3.13912885e-01,\n",
       "         -3.97634974e-01,  -4.19855812e-01,   1.13949825e+00,\n",
       "          1.38275348e+00,   2.14785187e+00,   0.00000000e+00,\n",
       "         -4.80084702e-02,   7.98982209e-02,  -1.04999249e-01,\n",
       "          2.68877479e-01,   7.54538332e-01,   2.56501924e-02,\n",
       "          0.00000000e+00,  -6.13436689e-02,  -3.92473301e-01,\n",
       "         -6.67707681e-01,  -2.49622976e-01,   7.02604017e-01,\n",
       "         -2.47441785e-01,  -7.02702415e-01,  -8.87416172e-02,\n",
       "         -3.54332626e-02,  -4.03574986e-01,  -1.22644706e+00,\n",
       "         -3.47353651e-01,   4.28898133e-01,  -1.09803161e+00,\n",
       "         -7.57435810e-01,  -2.09785127e-01,  -2.35964589e-02,\n",
       "         -2.99081347e-01,  -7.85218834e-01,  -2.64778551e-01,\n",
       "         -8.84092193e-01,  -1.05896428e+00,  -5.05669803e-01,\n",
       "         -1.96007519e-01],\n",
       "       [  0.00000000e+00,  -2.51406310e-01,  -1.71198054e-01,\n",
       "          1.92621591e-01,   3.14638592e-01,   3.46803536e-01,\n",
       "          2.08199463e-01,  -2.44868240e-02,  -5.90775571e-02,\n",
       "         -3.18462933e-01,  -1.00266900e-01,   1.80976646e-01,\n",
       "          2.62231581e-01,   4.93332150e-01,   3.02586115e-01,\n",
       "         -1.10392321e-01,   3.13855966e-02,  -3.12741291e-01,\n",
       "         -4.38655054e-01,   1.71781649e-02,   4.47783249e-01,\n",
       "          4.48538546e-01,  -2.96392856e-02,  -1.08817509e-01,\n",
       "          1.08760957e-01,  -4.22007754e-01,  -4.39270931e-01,\n",
       "          2.79777578e-01,   5.96334782e-01,   8.93138694e-02,\n",
       "         -4.89253753e-02,  -4.72323823e-02,   0.00000000e+00,\n",
       "         -3.46827587e-01,   5.67527006e-02,   7.85663290e-01,\n",
       "          5.76741042e-01,  -4.61890615e-01,  -3.07388764e-01,\n",
       "          0.00000000e+00,  -6.13436689e-02,  -1.75156557e-01,\n",
       "          1.08771914e-01,   7.46536764e-01,   5.84417877e-01,\n",
       "         -7.62765171e-01,  -7.05778617e-01,  -8.87416172e-02,\n",
       "         -6.13590949e-04,  -1.74164711e-01,  -1.94823259e-01,\n",
       "          5.37124331e-01,  -1.63879297e-02,  -8.81169223e-01,\n",
       "         -6.84197327e-01,  -2.09785127e-01,   7.68841967e-02,\n",
       "         -2.35656234e-01,  -9.35054372e-02,   4.57444407e-02,\n",
       "         -7.76562719e-01,  -6.81067783e-01,  -3.98468844e-01,\n",
       "         -1.93458946e-01]])"
      ]
     },
     "execution_count": 46,
     "metadata": {},
     "output_type": "execute_result"
    }
   ],
   "source": [
    "kmeans.cluster_centers_"
   ]
  },
  {
   "cell_type": "code",
   "execution_count": 53,
   "metadata": {
    "collapsed": false
   },
   "outputs": [
    {
     "data": {
      "text/plain": [
       "69477.887025993259"
      ]
     },
     "execution_count": 53,
     "metadata": {},
     "output_type": "execute_result"
    }
   ],
   "source": [
    "kmeans.inertia_"
   ]
  },
  {
   "cell_type": "code",
   "execution_count": 58,
   "metadata": {
    "collapsed": false
   },
   "outputs": [
    {
     "name": "stdout",
     "output_type": "stream",
     "text": [
      "8 74562.7759377\n",
      "9 72493.1388015\n",
      "10 69406.4859409\n",
      "11 67294.5512778\n",
      "12 65095.4097741\n",
      "13 63169.1830131\n",
      "14 61231.9227806\n",
      "15 59787.0711511\n"
     ]
    }
   ],
   "source": [
    "for i in range(8,16,1):\n",
    "    kmeans = KMeans(n_clusters=i)\n",
    "    s = kmeans.fit(data)\n",
    "    print (i ,kmeans.inertia_)"
   ]
  },
  {
   "cell_type": "code",
   "execution_count": null,
   "metadata": {
    "collapsed": true
   },
   "outputs": [],
   "source": []
  }
 ],
 "metadata": {
  "kernelspec": {
   "display_name": "Python 3",
   "language": "python",
   "name": "python3"
  },
  "language_info": {
   "codemirror_mode": {
    "name": "ipython",
    "version": 3
   },
   "file_extension": ".py",
   "mimetype": "text/x-python",
   "name": "python",
   "nbconvert_exporter": "python",
   "pygments_lexer": "ipython3",
   "version": "3.6.0"
  }
 },
 "nbformat": 4,
 "nbformat_minor": 2
}
